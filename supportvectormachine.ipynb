{
 "cells": [
  {
   "cell_type": "code",
   "execution_count": null,
   "id": "14c19c4c-b94c-4136-a300-d65f45e3fcbc",
   "metadata": {},
   "outputs": [],
   "source": []
  }
 ],
 "metadata": {
  "kernelspec": {
   "display_name": "",
   "name": ""
  },
  "language_info": {
   "name": ""
  }
 },
 "nbformat": 4,
 "nbformat_minor": 5
}
